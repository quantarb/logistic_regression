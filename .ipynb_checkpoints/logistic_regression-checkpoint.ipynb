{
 "cells": [
  {
   "cell_type": "code",
   "execution_count": 68,
   "metadata": {
    "collapsed": false
   },
   "outputs": [],
   "source": [
    "import numpy as np \n",
    "import pandas as pd\n",
    "\n",
    "def sigmoid(z):\n",
    "    return 1 / (1 + np.exp(-z))\n",
    "\n",
    "def cross_entropy(T, Y):\n",
    "    E = 0    \n",
    "    for i in xrange(T.shape[0]):\n",
    "        if T[i] == 1:\n",
    "            E -= np.log(Y[i])\n",
    "        else:\n",
    "            E -= np.log(1 - Y[i])\n",
    "    return E\n",
    "\n",
    "\n",
    "def logistic_regression(features, target, learning_rate = 0.1, n_iternations = 100):\n",
    "    T = target \n",
    "    n = features.shape[0]\n",
    "    \n",
    "    # add a column of ones\n",
    "    ones = np.array([[1] * n]).T\n",
    "    Xb = np.concatenate((ones, features), axis=1)\n",
    "    \n",
    "    # randomly initialize the weights\n",
    "    w = np.random.randn(Xb.shape[1])\n",
    "    \n",
    "    for i in xrange(n_iternations):        \n",
    "        # calculate the model output\n",
    "        z = Xb.dot(w)\n",
    "        Y = sigmoid(z)\n",
    "        \n",
    "        #print cross_entropy(T, Y)\n",
    "        \n",
    "        #gradient descent weight update with regularization\n",
    "        w += learning_rate * ( np.dot((T - Y).T, Xb) - 0.1*w )\n",
    "    \n",
    "    print \"Final weights:\", w        "
   ]
  },
  {
   "cell_type": "code",
   "execution_count": 69,
   "metadata": {
    "collapsed": false
   },
   "outputs": [
    {
     "name": "stdout",
     "output_type": "stream",
     "text": [
      "Final weights: [-0.00545756  0.12648722]\n"
     ]
    }
   ],
   "source": [
    "X = np.random.randn(10, 1)\n",
    "y = np.array([0]*5 + [1]*5).T\n",
    "\n",
    "logistic_regression(X, y)"
   ]
  },
  {
   "cell_type": "code",
   "execution_count": null,
   "metadata": {
    "collapsed": true
   },
   "outputs": [],
   "source": []
  },
  {
   "cell_type": "code",
   "execution_count": null,
   "metadata": {
    "collapsed": true
   },
   "outputs": [],
   "source": []
  }
 ],
 "metadata": {
  "kernelspec": {
   "display_name": "Python 2",
   "language": "python",
   "name": "python2"
  },
  "language_info": {
   "codemirror_mode": {
    "name": "ipython",
    "version": 2
   },
   "file_extension": ".py",
   "mimetype": "text/x-python",
   "name": "python",
   "nbconvert_exporter": "python",
   "pygments_lexer": "ipython2",
   "version": "2.7.11"
  }
 },
 "nbformat": 4,
 "nbformat_minor": 0
}
